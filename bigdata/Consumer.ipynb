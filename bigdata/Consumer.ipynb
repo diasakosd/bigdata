{
 "cells": [
  {
   "cell_type": "code",
   "execution_count": null,
   "id": "d5409aa0",
   "metadata": {},
   "outputs": [],
   "source": [
    "import os\n",
    "import json\n",
    "from kafka import KafkaConsumer\n",
    "\n",
    "# Create Kafka consumer\n",
    "consumer = KafkaConsumer(\n",
    "    'vehicle_positions',  # Topic to subscribe to\n",
    "    bootstrap_servers='localhost:9092',  # Kafka broker address\n",
    "    auto_offset_reset='latest',  # Start reading at the latest message\n",
    "    group_id='my-group',  # Consumer group ID\n",
    "    enable_auto_commit=True,  # Automatically commit offsets\n",
    ")\n",
    "\n",
    "# Start consuming messages\n",
    "try:\n",
    "    for message in consumer:\n",
    "        # Decode the message and parse the JSON\n",
    "        vehicle_data = json.loads(message.value.decode(\"utf-8\"))\n",
    "        \n",
    "        # Remove the simulator_start_time from the message if it exists\n",
    "        vehicle_data.pop('simulator_start_time', None)\n",
    "        \n",
    "        # Print the updated message without simulator_start_time\n",
    "        print(json.dumps(vehicle_data))\n",
    "\n",
    "except KeyboardInterrupt:\n",
    "    print(\"Consumer stopped.\")\n",
    "    consumer.close()\n"
   ]
  }
 ],
 "metadata": {
  "kernelspec": {
   "display_name": "Python 3 (ipykernel)",
   "language": "python",
   "name": "python3"
  },
  "language_info": {
   "codemirror_mode": {
    "name": "ipython",
    "version": 3
   },
   "file_extension": ".py",
   "mimetype": "text/x-python",
   "name": "python",
   "nbconvert_exporter": "python",
   "pygments_lexer": "ipython3",
   "version": "3.10.12"
  }
 },
 "nbformat": 4,
 "nbformat_minor": 5
}
